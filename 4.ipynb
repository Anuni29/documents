{
 "cells": [
  {
   "cell_type": "code",
   "execution_count": 30,
   "id": "54126854",
   "metadata": {},
   "outputs": [],
   "source": [
    "import pandas as pd\n",
    "import matplotlib.pyplot as plt"
   ]
  },
  {
   "cell_type": "code",
   "execution_count": 31,
   "id": "11f2ce68",
   "metadata": {},
   "outputs": [
    {
     "data": {
      "text/html": [
       "<div>\n",
       "<style scoped>\n",
       "    .dataframe tbody tr th:only-of-type {\n",
       "        vertical-align: middle;\n",
       "    }\n",
       "\n",
       "    .dataframe tbody tr th {\n",
       "        vertical-align: top;\n",
       "    }\n",
       "\n",
       "    .dataframe thead th {\n",
       "        text-align: right;\n",
       "    }\n",
       "</style>\n",
       "<table border=\"1\" class=\"dataframe\">\n",
       "  <thead>\n",
       "    <tr style=\"text-align: right;\">\n",
       "      <th></th>\n",
       "      <th>X</th>\n",
       "      <th>Y</th>\n",
       "    </tr>\n",
       "  </thead>\n",
       "  <tbody>\n",
       "    <tr>\n",
       "      <th>0</th>\n",
       "      <td>6.1101</td>\n",
       "      <td>17.59200</td>\n",
       "    </tr>\n",
       "    <tr>\n",
       "      <th>1</th>\n",
       "      <td>5.5277</td>\n",
       "      <td>9.13020</td>\n",
       "    </tr>\n",
       "    <tr>\n",
       "      <th>2</th>\n",
       "      <td>8.5186</td>\n",
       "      <td>13.66200</td>\n",
       "    </tr>\n",
       "    <tr>\n",
       "      <th>3</th>\n",
       "      <td>7.0032</td>\n",
       "      <td>11.85400</td>\n",
       "    </tr>\n",
       "    <tr>\n",
       "      <th>4</th>\n",
       "      <td>5.8598</td>\n",
       "      <td>6.82330</td>\n",
       "    </tr>\n",
       "    <tr>\n",
       "      <th>...</th>\n",
       "      <td>...</td>\n",
       "      <td>...</td>\n",
       "    </tr>\n",
       "    <tr>\n",
       "      <th>92</th>\n",
       "      <td>5.8707</td>\n",
       "      <td>7.20290</td>\n",
       "    </tr>\n",
       "    <tr>\n",
       "      <th>93</th>\n",
       "      <td>5.3054</td>\n",
       "      <td>1.98690</td>\n",
       "    </tr>\n",
       "    <tr>\n",
       "      <th>94</th>\n",
       "      <td>8.2934</td>\n",
       "      <td>0.14454</td>\n",
       "    </tr>\n",
       "    <tr>\n",
       "      <th>95</th>\n",
       "      <td>13.3940</td>\n",
       "      <td>9.05510</td>\n",
       "    </tr>\n",
       "    <tr>\n",
       "      <th>96</th>\n",
       "      <td>5.4369</td>\n",
       "      <td>0.61705</td>\n",
       "    </tr>\n",
       "  </tbody>\n",
       "</table>\n",
       "<p>97 rows × 2 columns</p>\n",
       "</div>"
      ],
      "text/plain": [
       "          X         Y\n",
       "0    6.1101  17.59200\n",
       "1    5.5277   9.13020\n",
       "2    8.5186  13.66200\n",
       "3    7.0032  11.85400\n",
       "4    5.8598   6.82330\n",
       "..      ...       ...\n",
       "92   5.8707   7.20290\n",
       "93   5.3054   1.98690\n",
       "94   8.2934   0.14454\n",
       "95  13.3940   9.05510\n",
       "96   5.4369   0.61705\n",
       "\n",
       "[97 rows x 2 columns]"
      ]
     },
     "execution_count": 31,
     "metadata": {},
     "output_type": "execute_result"
    }
   ],
   "source": [
    "df = pd.read_csv(\"C:/Users/anany/Downloads/Food-Truck.csv\")\n",
    "data = pd.read_csv(\"C:/Users/anany/Downloads/Food-Truck.csv\")\n",
    "df"
   ]
  },
  {
   "cell_type": "code",
   "execution_count": 32,
   "id": "1582de81",
   "metadata": {},
   "outputs": [
    {
     "data": {
      "image/png": "[encoded data removed]",
      "text/plain": [
       "<Figure size 432x288 with 1 Axes>"
      ]
     },
     "metadata": {
      "needs_background": "light"
     },
     "output_type": "display_data"
    }
   ],
   "source": [
    "df.plot(x='X',y='Y',style=\"o\")\n",
    "plt.show()"
   ]
  },
  {
   "cell_type": "code",
   "execution_count": 33,
   "id": "8ad4d878",
   "metadata": {},
   "outputs": [
    {
     "name": "stdout",
     "output_type": "stream",
     "text": [
      "8.159800000000002 5.83913505154639\n"
     ]
    }
   ],
   "source": [
    "x_mean=df[\"X\"].mean()\n",
    "y_mean=df[\"Y\"].mean()\n",
    "print(x_mean,y_mean)"
   ]
  },
  {
   "cell_type": "code",
   "execution_count": 34,
   "id": "7a6d80a7",
   "metadata": {},
   "outputs": [
    {
     "data": {
      "text/html": [
       "<div>\n",
       "<style scoped>\n",
       "    .dataframe tbody tr th:only-of-type {\n",
       "        vertical-align: middle;\n",
       "    }\n",
       "\n",
       "    .dataframe tbody tr th {\n",
       "        vertical-align: top;\n",
       "    }\n",
       "\n",
       "    .dataframe thead th {\n",
       "        text-align: right;\n",
       "    }\n",
       "</style>\n",
       "<table border=\"1\" class=\"dataframe\">\n",
       "  <thead>\n",
       "    <tr style=\"text-align: right;\">\n",
       "      <th></th>\n",
       "      <th>X</th>\n",
       "      <th>Y</th>\n",
       "      <th>x-x'</th>\n",
       "      <th>y-y'</th>\n",
       "      <th>x*y</th>\n",
       "      <th>x^2</th>\n",
       "      <th>y^2</th>\n",
       "    </tr>\n",
       "  </thead>\n",
       "  <tbody>\n",
       "    <tr>\n",
       "      <th>0</th>\n",
       "      <td>6.1101</td>\n",
       "      <td>17.59200</td>\n",
       "      <td>-2.0497</td>\n",
       "      <td>11.752865</td>\n",
       "      <td>-24.089847</td>\n",
       "      <td>4.201270</td>\n",
       "      <td>138.129834</td>\n",
       "    </tr>\n",
       "    <tr>\n",
       "      <th>1</th>\n",
       "      <td>5.5277</td>\n",
       "      <td>9.13020</td>\n",
       "      <td>-2.6321</td>\n",
       "      <td>3.291065</td>\n",
       "      <td>-8.662412</td>\n",
       "      <td>6.927950</td>\n",
       "      <td>10.831108</td>\n",
       "    </tr>\n",
       "    <tr>\n",
       "      <th>2</th>\n",
       "      <td>8.5186</td>\n",
       "      <td>13.66200</td>\n",
       "      <td>0.3588</td>\n",
       "      <td>7.822865</td>\n",
       "      <td>2.806844</td>\n",
       "      <td>0.128737</td>\n",
       "      <td>61.197216</td>\n",
       "    </tr>\n",
       "    <tr>\n",
       "      <th>3</th>\n",
       "      <td>7.0032</td>\n",
       "      <td>11.85400</td>\n",
       "      <td>-1.1566</td>\n",
       "      <td>6.014865</td>\n",
       "      <td>-6.956793</td>\n",
       "      <td>1.337724</td>\n",
       "      <td>36.178600</td>\n",
       "    </tr>\n",
       "    <tr>\n",
       "      <th>4</th>\n",
       "      <td>5.8598</td>\n",
       "      <td>6.82330</td>\n",
       "      <td>-2.3000</td>\n",
       "      <td>0.984165</td>\n",
       "      <td>-2.263579</td>\n",
       "      <td>5.290000</td>\n",
       "      <td>0.968581</td>\n",
       "    </tr>\n",
       "    <tr>\n",
       "      <th>...</th>\n",
       "      <td>...</td>\n",
       "      <td>...</td>\n",
       "      <td>...</td>\n",
       "      <td>...</td>\n",
       "      <td>...</td>\n",
       "      <td>...</td>\n",
       "      <td>...</td>\n",
       "    </tr>\n",
       "    <tr>\n",
       "      <th>92</th>\n",
       "      <td>5.8707</td>\n",
       "      <td>7.20290</td>\n",
       "      <td>-2.2891</td>\n",
       "      <td>1.363765</td>\n",
       "      <td>-3.121794</td>\n",
       "      <td>5.239979</td>\n",
       "      <td>1.859855</td>\n",
       "    </tr>\n",
       "    <tr>\n",
       "      <th>93</th>\n",
       "      <td>5.3054</td>\n",
       "      <td>1.98690</td>\n",
       "      <td>-2.8544</td>\n",
       "      <td>-3.852235</td>\n",
       "      <td>10.995820</td>\n",
       "      <td>8.147599</td>\n",
       "      <td>14.839715</td>\n",
       "    </tr>\n",
       "    <tr>\n",
       "      <th>94</th>\n",
       "      <td>8.2934</td>\n",
       "      <td>0.14454</td>\n",
       "      <td>0.1336</td>\n",
       "      <td>-5.694595</td>\n",
       "      <td>-0.760798</td>\n",
       "      <td>0.017849</td>\n",
       "      <td>32.428413</td>\n",
       "    </tr>\n",
       "    <tr>\n",
       "      <th>95</th>\n",
       "      <td>13.3940</td>\n",
       "      <td>9.05510</td>\n",
       "      <td>5.2342</td>\n",
       "      <td>3.215965</td>\n",
       "      <td>16.833004</td>\n",
       "      <td>27.396850</td>\n",
       "      <td>10.342431</td>\n",
       "    </tr>\n",
       "    <tr>\n",
       "      <th>96</th>\n",
       "      <td>5.4369</td>\n",
       "      <td>0.61705</td>\n",
       "      <td>-2.7229</td>\n",
       "      <td>-5.222085</td>\n",
       "      <td>14.219215</td>\n",
       "      <td>7.414184</td>\n",
       "      <td>27.270172</td>\n",
       "    </tr>\n",
       "  </tbody>\n",
       "</table>\n",
       "<p>97 rows × 7 columns</p>\n",
       "</div>"
      ],
      "text/plain": [
       "          X         Y    x-x'       y-y'        x*y        x^2         y^2\n",
       "0    6.1101  17.59200 -2.0497  11.752865 -24.089847   4.201270  138.129834\n",
       "1    5.5277   9.13020 -2.6321   3.291065  -8.662412   6.927950   10.831108\n",
       "2    8.5186  13.66200  0.3588   7.822865   2.806844   0.128737   61.197216\n",
       "3    7.0032  11.85400 -1.1566   6.014865  -6.956793   1.337724   36.178600\n",
       "4    5.8598   6.82330 -2.3000   0.984165  -2.263579   5.290000    0.968581\n",
       "..      ...       ...     ...        ...        ...        ...         ...\n",
       "92   5.8707   7.20290 -2.2891   1.363765  -3.121794   5.239979    1.859855\n",
       "93   5.3054   1.98690 -2.8544  -3.852235  10.995820   8.147599   14.839715\n",
       "94   8.2934   0.14454  0.1336  -5.694595  -0.760798   0.017849   32.428413\n",
       "95  13.3940   9.05510  5.2342   3.215965  16.833004  27.396850   10.342431\n",
       "96   5.4369   0.61705 -2.7229  -5.222085  14.219215   7.414184   27.270172\n",
       "\n",
       "[97 rows x 7 columns]"
      ]
     },
     "execution_count": 34,
     "metadata": {},
     "output_type": "execute_result"
    }
   ],
   "source": [
    "df[\"x-x'\"]=df[\"X\"]-x_mean\n",
    "df[\"y-y'\"]=df[\"Y\"]-y_mean\n",
    "df[\"x*y\"]=df[\"x-x'\"]*df[\"y-y'\"]\n",
    "df[\"x^2\"]=df[\"x-x'\"]**2\n",
    "df[\"y^2\"]=df[\"y-y'\"]**2\n",
    "df"
   ]
  },
  {
   "cell_type": "code",
   "execution_count": 35,
   "id": "13c9fa74",
   "metadata": {},
   "outputs": [],
   "source": [
    "sum_xy=df[\"x*y\"].sum()\n",
    "sum_xsq=df[\"x^2\"].sum()"
   ]
  },
  {
   "cell_type": "code",
   "execution_count": 36,
   "id": "1f1894ba",
   "metadata": {},
   "outputs": [
    {
     "data": {
      "text/plain": [
       "1715.219528539"
      ]
     },
     "execution_count": 36,
     "metadata": {},
     "output_type": "execute_result"
    }
   ],
   "source": [
    "sum_xy"
   ]
  },
  {
   "cell_type": "code",
   "execution_count": 37,
   "id": "0e49caf6",
   "metadata": {},
   "outputs": [
    {
     "data": {
      "text/plain": [
       "1437.6958578600002"
      ]
     },
     "execution_count": 37,
     "metadata": {},
     "output_type": "execute_result"
    }
   ],
   "source": [
    "sum_xsq"
   ]
  },
  {
   "cell_type": "code",
   "execution_count": 38,
   "id": "7678b235",
   "metadata": {},
   "outputs": [
    {
     "data": {
      "text/plain": [
       "1.1930336441895937"
      ]
     },
     "execution_count": 38,
     "metadata": {},
     "output_type": "execute_result"
    }
   ],
   "source": [
    "m=sum_xy/sum_xsq\n",
    "m"
   ]
  },
  {
   "cell_type": "code",
   "execution_count": 39,
   "id": "8c5bf743",
   "metadata": {},
   "outputs": [
    {
     "data": {
      "text/plain": [
       "-3.89578087831186"
      ]
     },
     "execution_count": 39,
     "metadata": {},
     "output_type": "execute_result"
    }
   ],
   "source": [
    "c=y_mean-(m*x_mean)\n",
    "c"
   ]
  },
  {
   "cell_type": "code",
   "execution_count": 40,
   "id": "54df150f",
   "metadata": {},
   "outputs": [
    {
     "data": {
      "text/html": [
       "<div>\n",
       "<style scoped>\n",
       "    .dataframe tbody tr th:only-of-type {\n",
       "        vertical-align: middle;\n",
       "    }\n",
       "\n",
       "    .dataframe tbody tr th {\n",
       "        vertical-align: top;\n",
       "    }\n",
       "\n",
       "    .dataframe thead th {\n",
       "        text-align: right;\n",
       "    }\n",
       "</style>\n",
       "<table border=\"1\" class=\"dataframe\">\n",
       "  <thead>\n",
       "    <tr style=\"text-align: right;\">\n",
       "      <th></th>\n",
       "      <th>X</th>\n",
       "      <th>Y</th>\n",
       "      <th>x-x'</th>\n",
       "      <th>y-y'</th>\n",
       "      <th>x*y</th>\n",
       "      <th>x^2</th>\n",
       "      <th>y^2</th>\n",
       "      <th>y_pred</th>\n",
       "    </tr>\n",
       "  </thead>\n",
       "  <tbody>\n",
       "    <tr>\n",
       "      <th>0</th>\n",
       "      <td>6.1101</td>\n",
       "      <td>17.59200</td>\n",
       "      <td>-2.0497</td>\n",
       "      <td>11.752865</td>\n",
       "      <td>-24.089847</td>\n",
       "      <td>4.201270</td>\n",
       "      <td>138.129834</td>\n",
       "      <td>3.393774</td>\n",
       "    </tr>\n",
       "    <tr>\n",
       "      <th>1</th>\n",
       "      <td>5.5277</td>\n",
       "      <td>9.13020</td>\n",
       "      <td>-2.6321</td>\n",
       "      <td>3.291065</td>\n",
       "      <td>-8.662412</td>\n",
       "      <td>6.927950</td>\n",
       "      <td>10.831108</td>\n",
       "      <td>2.698951</td>\n",
       "    </tr>\n",
       "    <tr>\n",
       "      <th>2</th>\n",
       "      <td>8.5186</td>\n",
       "      <td>13.66200</td>\n",
       "      <td>0.3588</td>\n",
       "      <td>7.822865</td>\n",
       "      <td>2.806844</td>\n",
       "      <td>0.128737</td>\n",
       "      <td>61.197216</td>\n",
       "      <td>6.267196</td>\n",
       "    </tr>\n",
       "    <tr>\n",
       "      <th>3</th>\n",
       "      <td>7.0032</td>\n",
       "      <td>11.85400</td>\n",
       "      <td>-1.1566</td>\n",
       "      <td>6.014865</td>\n",
       "      <td>-6.956793</td>\n",
       "      <td>1.337724</td>\n",
       "      <td>36.178600</td>\n",
       "      <td>4.459272</td>\n",
       "    </tr>\n",
       "    <tr>\n",
       "      <th>4</th>\n",
       "      <td>5.8598</td>\n",
       "      <td>6.82330</td>\n",
       "      <td>-2.3000</td>\n",
       "      <td>0.984165</td>\n",
       "      <td>-2.263579</td>\n",
       "      <td>5.290000</td>\n",
       "      <td>0.968581</td>\n",
       "      <td>3.095158</td>\n",
       "    </tr>\n",
       "    <tr>\n",
       "      <th>...</th>\n",
       "      <td>...</td>\n",
       "      <td>...</td>\n",
       "      <td>...</td>\n",
       "      <td>...</td>\n",
       "      <td>...</td>\n",
       "      <td>...</td>\n",
       "      <td>...</td>\n",
       "      <td>...</td>\n",
       "    </tr>\n",
       "    <tr>\n",
       "      <th>92</th>\n",
       "      <td>5.8707</td>\n",
       "      <td>7.20290</td>\n",
       "      <td>-2.2891</td>\n",
       "      <td>1.363765</td>\n",
       "      <td>-3.121794</td>\n",
       "      <td>5.239979</td>\n",
       "      <td>1.859855</td>\n",
       "      <td>3.108162</td>\n",
       "    </tr>\n",
       "    <tr>\n",
       "      <th>93</th>\n",
       "      <td>5.3054</td>\n",
       "      <td>1.98690</td>\n",
       "      <td>-2.8544</td>\n",
       "      <td>-3.852235</td>\n",
       "      <td>10.995820</td>\n",
       "      <td>8.147599</td>\n",
       "      <td>14.839715</td>\n",
       "      <td>2.433740</td>\n",
       "    </tr>\n",
       "    <tr>\n",
       "      <th>94</th>\n",
       "      <td>8.2934</td>\n",
       "      <td>0.14454</td>\n",
       "      <td>0.1336</td>\n",
       "      <td>-5.694595</td>\n",
       "      <td>-0.760798</td>\n",
       "      <td>0.017849</td>\n",
       "      <td>32.428413</td>\n",
       "      <td>5.998524</td>\n",
       "    </tr>\n",
       "    <tr>\n",
       "      <th>95</th>\n",
       "      <td>13.3940</td>\n",
       "      <td>9.05510</td>\n",
       "      <td>5.2342</td>\n",
       "      <td>3.215965</td>\n",
       "      <td>16.833004</td>\n",
       "      <td>27.396850</td>\n",
       "      <td>10.342431</td>\n",
       "      <td>12.083712</td>\n",
       "    </tr>\n",
       "    <tr>\n",
       "      <th>96</th>\n",
       "      <td>5.4369</td>\n",
       "      <td>0.61705</td>\n",
       "      <td>-2.7229</td>\n",
       "      <td>-5.222085</td>\n",
       "      <td>14.219215</td>\n",
       "      <td>7.414184</td>\n",
       "      <td>27.270172</td>\n",
       "      <td>2.590624</td>\n",
       "    </tr>\n",
       "  </tbody>\n",
       "</table>\n",
       "<p>97 rows × 8 columns</p>\n",
       "</div>"
      ],
      "text/plain": [
       "          X         Y    x-x'       y-y'        x*y        x^2         y^2  \\\n",
       "0    6.1101  17.59200 -2.0497  11.752865 -24.089847   4.201270  138.129834   \n",
       "1    5.5277   9.13020 -2.6321   3.291065  -8.662412   6.927950   10.831108   \n",
       "2    8.5186  13.66200  0.3588   7.822865   2.806844   0.128737   61.197216   \n",
       "3    7.0032  11.85400 -1.1566   6.014865  -6.956793   1.337724   36.178600   \n",
       "4    5.8598   6.82330 -2.3000   0.984165  -2.263579   5.290000    0.968581   \n",
       "..      ...       ...     ...        ...        ...        ...         ...   \n",
       "92   5.8707   7.20290 -2.2891   1.363765  -3.121794   5.239979    1.859855   \n",
       "93   5.3054   1.98690 -2.8544  -3.852235  10.995820   8.147599   14.839715   \n",
       "94   8.2934   0.14454  0.1336  -5.694595  -0.760798   0.017849   32.428413   \n",
       "95  13.3940   9.05510  5.2342   3.215965  16.833004  27.396850   10.342431   \n",
       "96   5.4369   0.61705 -2.7229  -5.222085  14.219215   7.414184   27.270172   \n",
       "\n",
       "       y_pred  \n",
       "0    3.393774  \n",
       "1    2.698951  \n",
       "2    6.267196  \n",
       "3    4.459272  \n",
       "4    3.095158  \n",
       "..        ...  \n",
       "92   3.108162  \n",
       "93   2.433740  \n",
       "94   5.998524  \n",
       "95  12.083712  \n",
       "96   2.590624  \n",
       "\n",
       "[97 rows x 8 columns]"
      ]
     },
     "execution_count": 40,
     "metadata": {},
     "output_type": "execute_result"
    }
   ],
   "source": [
    "df[\"y_pred\"]=m*df[\"X\"]+c\n",
    "df"
   ]
  },
  {
   "cell_type": "code",
   "execution_count": 41,
   "id": "324d88c6",
   "metadata": {},
   "outputs": [
    {
     "data": {
      "text/html": [
       "<div>\n",
       "<style scoped>\n",
       "    .dataframe tbody tr th:only-of-type {\n",
       "        vertical-align: middle;\n",
       "    }\n",
       "\n",
       "    .dataframe tbody tr th {\n",
       "        vertical-align: top;\n",
       "    }\n",
       "\n",
       "    .dataframe thead th {\n",
       "        text-align: right;\n",
       "    }\n",
       "</style>\n",
       "<table border=\"1\" class=\"dataframe\">\n",
       "  <thead>\n",
       "    <tr style=\"text-align: right;\">\n",
       "      <th></th>\n",
       "      <th>X</th>\n",
       "      <th>Y</th>\n",
       "      <th>x-x'</th>\n",
       "      <th>y-y'</th>\n",
       "      <th>x*y</th>\n",
       "      <th>x^2</th>\n",
       "      <th>y^2</th>\n",
       "      <th>y_pred</th>\n",
       "      <th>y_pred-y</th>\n",
       "    </tr>\n",
       "  </thead>\n",
       "  <tbody>\n",
       "    <tr>\n",
       "      <th>0</th>\n",
       "      <td>6.1101</td>\n",
       "      <td>17.59200</td>\n",
       "      <td>-2.0497</td>\n",
       "      <td>11.752865</td>\n",
       "      <td>-24.089847</td>\n",
       "      <td>4.201270</td>\n",
       "      <td>138.129834</td>\n",
       "      <td>3.393774</td>\n",
       "      <td>201.589622</td>\n",
       "    </tr>\n",
       "    <tr>\n",
       "      <th>1</th>\n",
       "      <td>5.5277</td>\n",
       "      <td>9.13020</td>\n",
       "      <td>-2.6321</td>\n",
       "      <td>3.291065</td>\n",
       "      <td>-8.662412</td>\n",
       "      <td>6.927950</td>\n",
       "      <td>10.831108</td>\n",
       "      <td>2.698951</td>\n",
       "      <td>41.360961</td>\n",
       "    </tr>\n",
       "    <tr>\n",
       "      <th>2</th>\n",
       "      <td>8.5186</td>\n",
       "      <td>13.66200</td>\n",
       "      <td>0.3588</td>\n",
       "      <td>7.822865</td>\n",
       "      <td>2.806844</td>\n",
       "      <td>0.128737</td>\n",
       "      <td>61.197216</td>\n",
       "      <td>6.267196</td>\n",
       "      <td>54.683133</td>\n",
       "    </tr>\n",
       "    <tr>\n",
       "      <th>3</th>\n",
       "      <td>7.0032</td>\n",
       "      <td>11.85400</td>\n",
       "      <td>-1.1566</td>\n",
       "      <td>6.014865</td>\n",
       "      <td>-6.956793</td>\n",
       "      <td>1.337724</td>\n",
       "      <td>36.178600</td>\n",
       "      <td>4.459272</td>\n",
       "      <td>54.681997</td>\n",
       "    </tr>\n",
       "    <tr>\n",
       "      <th>4</th>\n",
       "      <td>5.8598</td>\n",
       "      <td>6.82330</td>\n",
       "      <td>-2.3000</td>\n",
       "      <td>0.984165</td>\n",
       "      <td>-2.263579</td>\n",
       "      <td>5.290000</td>\n",
       "      <td>0.968581</td>\n",
       "      <td>3.095158</td>\n",
       "      <td>13.899045</td>\n",
       "    </tr>\n",
       "    <tr>\n",
       "      <th>...</th>\n",
       "      <td>...</td>\n",
       "      <td>...</td>\n",
       "      <td>...</td>\n",
       "      <td>...</td>\n",
       "      <td>...</td>\n",
       "      <td>...</td>\n",
       "      <td>...</td>\n",
       "      <td>...</td>\n",
       "      <td>...</td>\n",
       "    </tr>\n",
       "    <tr>\n",
       "      <th>92</th>\n",
       "      <td>5.8707</td>\n",
       "      <td>7.20290</td>\n",
       "      <td>-2.2891</td>\n",
       "      <td>1.363765</td>\n",
       "      <td>-3.121794</td>\n",
       "      <td>5.239979</td>\n",
       "      <td>1.859855</td>\n",
       "      <td>3.108162</td>\n",
       "      <td>16.766881</td>\n",
       "    </tr>\n",
       "    <tr>\n",
       "      <th>93</th>\n",
       "      <td>5.3054</td>\n",
       "      <td>1.98690</td>\n",
       "      <td>-2.8544</td>\n",
       "      <td>-3.852235</td>\n",
       "      <td>10.995820</td>\n",
       "      <td>8.147599</td>\n",
       "      <td>14.839715</td>\n",
       "      <td>2.433740</td>\n",
       "      <td>0.199666</td>\n",
       "    </tr>\n",
       "    <tr>\n",
       "      <th>94</th>\n",
       "      <td>8.2934</td>\n",
       "      <td>0.14454</td>\n",
       "      <td>0.1336</td>\n",
       "      <td>-5.694595</td>\n",
       "      <td>-0.760798</td>\n",
       "      <td>0.017849</td>\n",
       "      <td>32.428413</td>\n",
       "      <td>5.998524</td>\n",
       "      <td>34.269133</td>\n",
       "    </tr>\n",
       "    <tr>\n",
       "      <th>95</th>\n",
       "      <td>13.3940</td>\n",
       "      <td>9.05510</td>\n",
       "      <td>5.2342</td>\n",
       "      <td>3.215965</td>\n",
       "      <td>16.833004</td>\n",
       "      <td>27.396850</td>\n",
       "      <td>10.342431</td>\n",
       "      <td>12.083712</td>\n",
       "      <td>9.172489</td>\n",
       "    </tr>\n",
       "    <tr>\n",
       "      <th>96</th>\n",
       "      <td>5.4369</td>\n",
       "      <td>0.61705</td>\n",
       "      <td>-2.7229</td>\n",
       "      <td>-5.222085</td>\n",
       "      <td>14.219215</td>\n",
       "      <td>7.414184</td>\n",
       "      <td>27.270172</td>\n",
       "      <td>2.590624</td>\n",
       "      <td>3.894993</td>\n",
       "    </tr>\n",
       "  </tbody>\n",
       "</table>\n",
       "<p>97 rows × 9 columns</p>\n",
       "</div>"
      ],
      "text/plain": [
       "          X         Y    x-x'       y-y'        x*y        x^2         y^2  \\\n",
       "0    6.1101  17.59200 -2.0497  11.752865 -24.089847   4.201270  138.129834   \n",
       "1    5.5277   9.13020 -2.6321   3.291065  -8.662412   6.927950   10.831108   \n",
       "2    8.5186  13.66200  0.3588   7.822865   2.806844   0.128737   61.197216   \n",
       "3    7.0032  11.85400 -1.1566   6.014865  -6.956793   1.337724   36.178600   \n",
       "4    5.8598   6.82330 -2.3000   0.984165  -2.263579   5.290000    0.968581   \n",
       "..      ...       ...     ...        ...        ...        ...         ...   \n",
       "92   5.8707   7.20290 -2.2891   1.363765  -3.121794   5.239979    1.859855   \n",
       "93   5.3054   1.98690 -2.8544  -3.852235  10.995820   8.147599   14.839715   \n",
       "94   8.2934   0.14454  0.1336  -5.694595  -0.760798   0.017849   32.428413   \n",
       "95  13.3940   9.05510  5.2342   3.215965  16.833004  27.396850   10.342431   \n",
       "96   5.4369   0.61705 -2.7229  -5.222085  14.219215   7.414184   27.270172   \n",
       "\n",
       "       y_pred    y_pred-y  \n",
       "0    3.393774  201.589622  \n",
       "1    2.698951   41.360961  \n",
       "2    6.267196   54.683133  \n",
       "3    4.459272   54.681997  \n",
       "4    3.095158   13.899045  \n",
       "..        ...         ...  \n",
       "92   3.108162   16.766881  \n",
       "93   2.433740    0.199666  \n",
       "94   5.998524   34.269133  \n",
       "95  12.083712    9.172489  \n",
       "96   2.590624    3.894993  \n",
       "\n",
       "[97 rows x 9 columns]"
      ]
     },
     "execution_count": 41,
     "metadata": {},
     "output_type": "execute_result"
    }
   ],
   "source": [
    "df[\"y_pred-y\"]=(df[\"y_pred\"]-df[\"Y\"])**2\n",
    "df"
   ]
  },
  {
   "cell_type": "code",
   "execution_count": 42,
   "id": "b548c35c",
   "metadata": {},
   "outputs": [
    {
     "data": {
      "text/plain": [
       "868.5324469391846"
      ]
     },
     "execution_count": 42,
     "metadata": {},
     "output_type": "execute_result"
    }
   ],
   "source": [
    "sse=df[\"y_pred-y\"].sum()\n",
    "sse"
   ]
  },
  {
   "cell_type": "code",
   "execution_count": 43,
   "id": "adf124d6",
   "metadata": {},
   "outputs": [
    {
     "data": {
      "text/plain": [
       "97"
      ]
     },
     "execution_count": 43,
     "metadata": {},
     "output_type": "execute_result"
    }
   ],
   "source": [
    "len(df)"
   ]
  },
  {
   "cell_type": "code",
   "execution_count": 44,
   "id": "0395737d",
   "metadata": {},
   "outputs": [
    {
     "data": {
      "text/plain": [
       "8.953942751950358"
      ]
     },
     "execution_count": 44,
     "metadata": {},
     "output_type": "execute_result"
    }
   ],
   "source": [
    "mse=sse/len(df)\n",
    "mse"
   ]
  },
  {
   "cell_type": "code",
   "execution_count": 45,
   "id": "37718a6c",
   "metadata": {},
   "outputs": [
    {
     "data": {
      "text/plain": [
       "5.839135051546386"
      ]
     },
     "execution_count": 45,
     "metadata": {},
     "output_type": "execute_result"
    }
   ],
   "source": [
    "y_pred_mean=df[\"y_pred\"].mean()\n",
    "y_pred_mean"
   ]
  },
  {
   "cell_type": "code",
   "execution_count": 46,
   "id": "48d644eb",
   "metadata": {},
   "outputs": [
    {
     "data": {
      "text/html": [
       "<div>\n",
       "<style scoped>\n",
       "    .dataframe tbody tr th:only-of-type {\n",
       "        vertical-align: middle;\n",
       "    }\n",
       "\n",
       "    .dataframe tbody tr th {\n",
       "        vertical-align: top;\n",
       "    }\n",
       "\n",
       "    .dataframe thead th {\n",
       "        text-align: right;\n",
       "    }\n",
       "</style>\n",
       "<table border=\"1\" class=\"dataframe\">\n",
       "  <thead>\n",
       "    <tr style=\"text-align: right;\">\n",
       "      <th></th>\n",
       "      <th>X</th>\n",
       "      <th>Y</th>\n",
       "      <th>x-x'</th>\n",
       "      <th>y-y'</th>\n",
       "      <th>x*y</th>\n",
       "      <th>x^2</th>\n",
       "      <th>y^2</th>\n",
       "      <th>y_pred</th>\n",
       "      <th>y_pred-y</th>\n",
       "      <th>ypred-y_pred_mean</th>\n",
       "    </tr>\n",
       "  </thead>\n",
       "  <tbody>\n",
       "    <tr>\n",
       "      <th>0</th>\n",
       "      <td>6.1101</td>\n",
       "      <td>17.59200</td>\n",
       "      <td>-2.0497</td>\n",
       "      <td>11.752865</td>\n",
       "      <td>-24.089847</td>\n",
       "      <td>4.201270</td>\n",
       "      <td>138.129834</td>\n",
       "      <td>3.393774</td>\n",
       "      <td>201.589622</td>\n",
       "      <td>5.979791</td>\n",
       "    </tr>\n",
       "    <tr>\n",
       "      <th>1</th>\n",
       "      <td>5.5277</td>\n",
       "      <td>9.13020</td>\n",
       "      <td>-2.6321</td>\n",
       "      <td>3.291065</td>\n",
       "      <td>-8.662412</td>\n",
       "      <td>6.927950</td>\n",
       "      <td>10.831108</td>\n",
       "      <td>2.698951</td>\n",
       "      <td>41.360961</td>\n",
       "      <td>9.860755</td>\n",
       "    </tr>\n",
       "    <tr>\n",
       "      <th>2</th>\n",
       "      <td>8.5186</td>\n",
       "      <td>13.66200</td>\n",
       "      <td>0.3588</td>\n",
       "      <td>7.822865</td>\n",
       "      <td>2.806844</td>\n",
       "      <td>0.128737</td>\n",
       "      <td>61.197216</td>\n",
       "      <td>6.267196</td>\n",
       "      <td>54.683133</td>\n",
       "      <td>0.183236</td>\n",
       "    </tr>\n",
       "    <tr>\n",
       "      <th>3</th>\n",
       "      <td>7.0032</td>\n",
       "      <td>11.85400</td>\n",
       "      <td>-1.1566</td>\n",
       "      <td>6.014865</td>\n",
       "      <td>-6.956793</td>\n",
       "      <td>1.337724</td>\n",
       "      <td>36.178600</td>\n",
       "      <td>4.459272</td>\n",
       "      <td>54.681997</td>\n",
       "      <td>1.904021</td>\n",
       "    </tr>\n",
       "    <tr>\n",
       "      <th>4</th>\n",
       "      <td>5.8598</td>\n",
       "      <td>6.82330</td>\n",
       "      <td>-2.3000</td>\n",
       "      <td>0.984165</td>\n",
       "      <td>-2.263579</td>\n",
       "      <td>5.290000</td>\n",
       "      <td>0.968581</td>\n",
       "      <td>3.095158</td>\n",
       "      <td>13.899045</td>\n",
       "      <td>7.529412</td>\n",
       "    </tr>\n",
       "    <tr>\n",
       "      <th>...</th>\n",
       "      <td>...</td>\n",
       "      <td>...</td>\n",
       "      <td>...</td>\n",
       "      <td>...</td>\n",
       "      <td>...</td>\n",
       "      <td>...</td>\n",
       "      <td>...</td>\n",
       "      <td>...</td>\n",
       "      <td>...</td>\n",
       "      <td>...</td>\n",
       "    </tr>\n",
       "    <tr>\n",
       "      <th>92</th>\n",
       "      <td>5.8707</td>\n",
       "      <td>7.20290</td>\n",
       "      <td>-2.2891</td>\n",
       "      <td>1.363765</td>\n",
       "      <td>-3.121794</td>\n",
       "      <td>5.239979</td>\n",
       "      <td>1.859855</td>\n",
       "      <td>3.108162</td>\n",
       "      <td>16.766881</td>\n",
       "      <td>7.458215</td>\n",
       "    </tr>\n",
       "    <tr>\n",
       "      <th>93</th>\n",
       "      <td>5.3054</td>\n",
       "      <td>1.98690</td>\n",
       "      <td>-2.8544</td>\n",
       "      <td>-3.852235</td>\n",
       "      <td>10.995820</td>\n",
       "      <td>8.147599</td>\n",
       "      <td>14.839715</td>\n",
       "      <td>2.433740</td>\n",
       "      <td>0.199666</td>\n",
       "      <td>11.596717</td>\n",
       "    </tr>\n",
       "    <tr>\n",
       "      <th>94</th>\n",
       "      <td>8.2934</td>\n",
       "      <td>0.14454</td>\n",
       "      <td>0.1336</td>\n",
       "      <td>-5.694595</td>\n",
       "      <td>-0.760798</td>\n",
       "      <td>0.017849</td>\n",
       "      <td>32.428413</td>\n",
       "      <td>5.998524</td>\n",
       "      <td>34.269133</td>\n",
       "      <td>0.025405</td>\n",
       "    </tr>\n",
       "    <tr>\n",
       "      <th>95</th>\n",
       "      <td>13.3940</td>\n",
       "      <td>9.05510</td>\n",
       "      <td>5.2342</td>\n",
       "      <td>3.215965</td>\n",
       "      <td>16.833004</td>\n",
       "      <td>27.396850</td>\n",
       "      <td>10.342431</td>\n",
       "      <td>12.083712</td>\n",
       "      <td>9.172489</td>\n",
       "      <td>38.994738</td>\n",
       "    </tr>\n",
       "    <tr>\n",
       "      <th>96</th>\n",
       "      <td>5.4369</td>\n",
       "      <td>0.61705</td>\n",
       "      <td>-2.7229</td>\n",
       "      <td>-5.222085</td>\n",
       "      <td>14.219215</td>\n",
       "      <td>7.414184</td>\n",
       "      <td>27.270172</td>\n",
       "      <td>2.590624</td>\n",
       "      <td>3.894993</td>\n",
       "      <td>10.552826</td>\n",
       "    </tr>\n",
       "  </tbody>\n",
       "</table>\n",
       "<p>97 rows × 10 columns</p>\n",
       "</div>"
      ],
      "text/plain": [
       "          X         Y    x-x'       y-y'        x*y        x^2         y^2  \\\n",
       "0    6.1101  17.59200 -2.0497  11.752865 -24.089847   4.201270  138.129834   \n",
       "1    5.5277   9.13020 -2.6321   3.291065  -8.662412   6.927950   10.831108   \n",
       "2    8.5186  13.66200  0.3588   7.822865   2.806844   0.128737   61.197216   \n",
       "3    7.0032  11.85400 -1.1566   6.014865  -6.956793   1.337724   36.178600   \n",
       "4    5.8598   6.82330 -2.3000   0.984165  -2.263579   5.290000    0.968581   \n",
       "..      ...       ...     ...        ...        ...        ...         ...   \n",
       "92   5.8707   7.20290 -2.2891   1.363765  -3.121794   5.239979    1.859855   \n",
       "93   5.3054   1.98690 -2.8544  -3.852235  10.995820   8.147599   14.839715   \n",
       "94   8.2934   0.14454  0.1336  -5.694595  -0.760798   0.017849   32.428413   \n",
       "95  13.3940   9.05510  5.2342   3.215965  16.833004  27.396850   10.342431   \n",
       "96   5.4369   0.61705 -2.7229  -5.222085  14.219215   7.414184   27.270172   \n",
       "\n",
       "       y_pred    y_pred-y  ypred-y_pred_mean  \n",
       "0    3.393774  201.589622           5.979791  \n",
       "1    2.698951   41.360961           9.860755  \n",
       "2    6.267196   54.683133           0.183236  \n",
       "3    4.459272   54.681997           1.904021  \n",
       "4    3.095158   13.899045           7.529412  \n",
       "..        ...         ...                ...  \n",
       "92   3.108162   16.766881           7.458215  \n",
       "93   2.433740    0.199666          11.596717  \n",
       "94   5.998524   34.269133           0.025405  \n",
       "95  12.083712    9.172489          38.994738  \n",
       "96   2.590624    3.894993          10.552826  \n",
       "\n",
       "[97 rows x 10 columns]"
      ]
     },
     "execution_count": 46,
     "metadata": {},
     "output_type": "execute_result"
    }
   ],
   "source": [
    "df[\"ypred-y_pred_mean\"]=(df[\"y_pred\"]-y_pred_mean)**2\n",
    "df"
   ]
  },
  {
   "cell_type": "code",
   "execution_count": 47,
   "id": "db366a32",
   "metadata": {},
   "outputs": [
    {
     "data": {
      "text/plain": [
       "2046.3146047180398"
      ]
     },
     "execution_count": 47,
     "metadata": {},
     "output_type": "execute_result"
    }
   ],
   "source": [
    "ssr=df[\"ypred-y_pred_mean\"].sum()\n",
    "ssr"
   ]
  },
  {
   "cell_type": "code",
   "execution_count": 48,
   "id": "490b3baf",
   "metadata": {},
   "outputs": [
    {
     "data": {
      "text/plain": [
       "1437.6958578600002"
      ]
     },
     "execution_count": 48,
     "metadata": {},
     "output_type": "execute_result"
    }
   ],
   "source": [
    "sst=df[\"x^2\"].sum()\n",
    "sst"
   ]
  },
  {
   "cell_type": "code",
   "execution_count": 49,
   "id": "653cb73d",
   "metadata": {},
   "outputs": [
    {
     "data": {
      "text/plain": [
       "0.39588582509238857"
      ]
     },
     "execution_count": 49,
     "metadata": {},
     "output_type": "execute_result"
    }
   ],
   "source": [
    "rsq=1-(sse/sst)\n",
    "rsq"
   ]
  },
  {
   "cell_type": "code",
   "execution_count": 50,
   "id": "b443521e",
   "metadata": {},
   "outputs": [
    {
     "data": {
      "image/png": "[encoded data removed]",
      "text/plain": [
       "<Figure size 432x288 with 1 Axes>"
      ]
     },
     "metadata": {
      "needs_background": "light"
     },
     "output_type": "display_data"
    }
   ],
   "source": [
    "plot1=plt.scatter(df[\"X\"],df[\"Y\"])\n",
    "plot2=plt.plot(df[\"X\"],df[\"y_pred\"])\n",
    "plt.show()"
   ]
  },
  {
   "cell_type": "code",
   "execution_count": null,
   "id": "cd54c95b",
   "metadata": {},
   "outputs": [],
   "source": []
  }
 ],
 "metadata": {
  "kernelspec": {
   "display_name": "Python 3 (ipykernel)",
   "language": "python",
   "name": "python3"
  },
  "language_info": {
   "codemirror_mode": {
    "name": "ipython",
    "version": 3
   },
   "file_extension": ".py",
   "mimetype": "text/x-python",
   "name": "python",
   "nbconvert_exporter": "python",
   "pygments_lexer": "ipython3",
   "version": "3.9.7"
  }
 },
 "nbformat": 4,
 "nbformat_minor": 5
}
